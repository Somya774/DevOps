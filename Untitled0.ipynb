{
  "nbformat": 4,
  "nbformat_minor": 0,
  "metadata": {
    "colab": {
      "provenance": [],
      "authorship_tag": "ABX9TyOND1LyL3EuoISFBNIOhh0Z",
      "include_colab_link": true
    },
    "kernelspec": {
      "name": "python3",
      "display_name": "Python 3"
    },
    "language_info": {
      "name": "python"
    }
  },
  "cells": [
    {
      "cell_type": "markdown",
      "metadata": {
        "id": "view-in-github",
        "colab_type": "text"
      },
      "source": [
        "<a href=\"https://colab.research.google.com/github/Somya774/DevOps/blob/main/Untitled0.ipynb\" target=\"_parent\"><img src=\"https://colab.research.google.com/assets/colab-badge.svg\" alt=\"Open In Colab\"/></a>"
      ]
    },
    {
      "cell_type": "code",
      "execution_count": null,
      "metadata": {
        "colab": {
          "base_uri": "https://localhost:8080/"
        },
        "id": "knq3rzU85jNS",
        "outputId": "ad2dc9e4-b317-4e0b-c7c4-42047ecc6e84"
      },
      "outputs": [
        {
          "output_type": "stream",
          "name": "stdout",
          "text": [
            " student_id start_date   end_date  total_days\n",
            "        101 2024-03-01 2024-03-04           4\n",
            "        102 2024-03-02 2024-03-05           4\n",
            "        103 2024-03-05 2024-03-09           5\n"
          ]
        }
      ],
      "source": [
        "import pandas as pd\n",
        "from datetime import timedelta\n",
        "\n",
        "def identify_extended_absences(attendance_data):\n",
        "    absence_records = []\n",
        "    for pupil, attendance_records in attendance_data.groupby(\"student_id\"):\n",
        "        sorted_attendance = attendance_records.sort_values(by=\"attendance_date\").reset_index(drop=True)\n",
        "        consecutive_absence = None\n",
        "        longest_absence = None\n",
        "        for index, row in sorted_attendance.iterrows():\n",
        "            if row[\"status\"] == \"Absent\":\n",
        "                if consecutive_absence is None:\n",
        "                    consecutive_absence = {\"begin\": row[\"attendance_date\"], \"duration\": 1}\n",
        "                else:\n",
        "                    consecutive_absence[\"duration\"] += 1\n",
        "            else:\n",
        "                if consecutive_absence and consecutive_absence[\"duration\"] > 3:\n",
        "                    longest_absence = consecutive_absence\n",
        "                consecutive_absence = None\n",
        "        if consecutive_absence and consecutive_absence[\"duration\"] > 3:\n",
        "            longest_absence = consecutive_absence\n",
        "        if longest_absence:\n",
        "            absence_records.append({\n",
        "                \"student_id\": pupil,\n",
        "                \"start_date\": longest_absence[\"begin\"].strftime(\"%Y-%m-%d\"),\n",
        "                \"end_date\": (longest_absence[\"begin\"] + timedelta(days=longest_absence[\"duration\"] - 1)).strftime(\"%Y-%m-%d\"),\n",
        "                \"total_days\": longest_absence[\"duration\"],\n",
        "            })\n",
        "    return pd.DataFrame(absence_records)\n",
        "\n",
        "sample_attendance = [\n",
        "    {\"student_id\": 101, \"attendance_date\": \"2024-03-01\", \"status\": \"Absent\"},\n",
        "    {\"student_id\": 101, \"attendance_date\": \"2024-03-02\", \"status\": \"Absent\"},\n",
        "    {\"student_id\": 101, \"attendance_date\": \"2024-03-03\", \"status\": \"Absent\"},\n",
        "    {\"student_id\": 101, \"attendance_date\": \"2024-03-04\", \"status\": \"Absent\"},\n",
        "    {\"student_id\": 101, \"attendance_date\": \"2024-03-05\", \"status\": \"Present\"},\n",
        "    {\"student_id\": 102, \"attendance_date\": \"2024-03-02\", \"status\": \"Absent\"},\n",
        "    {\"student_id\": 102, \"attendance_date\": \"2024-03-03\", \"status\": \"Absent\"},\n",
        "    {\"student_id\": 102, \"attendance_date\": \"2024-03-04\", \"status\": \"Absent\"},\n",
        "    {\"student_id\": 102, \"attendance_date\": \"2024-03-05\", \"status\": \"Absent\"},\n",
        "    {\"student_id\": 103, \"attendance_date\": \"2024-03-05\", \"status\": \"Absent\"},\n",
        "    {\"student_id\": 103, \"attendance_date\": \"2024-03-06\", \"status\": \"Absent\"},\n",
        "    {\"student_id\": 103, \"attendance_date\": \"2024-03-07\", \"status\": \"Absent\"},\n",
        "    {\"student_id\": 103, \"attendance_date\": \"2024-03-08\", \"status\": \"Absent\"},\n",
        "    {\"student_id\": 103, \"attendance_date\": \"2024-03-09\", \"status\": \"Absent\"},\n",
        "    {\"student_id\": 104, \"attendance_date\": \"2024-03-01\", \"status\": \"Present\"},\n",
        "    {\"student_id\": 104, \"attendance_date\": \"2024-03-02\", \"status\": \"Present\"},\n",
        "    {\"student_id\": 104, \"attendance_date\": \"2024-03-03\", \"status\": \"Absent\"},\n",
        "    {\"student_id\": 104, \"attendance_date\": \"2024-03-04\", \"status\": \"Present\"},\n",
        "    {\"student_id\": 104, \"attendance_date\": \"2024-03-05\", \"status\": \"Present\"},\n",
        "]\n",
        "\n",
        "attendance_dataframe = pd.DataFrame(sample_attendance)\n",
        "attendance_dataframe[\"attendance_date\"] = pd.to_datetime(attendance_dataframe[\"attendance_date\"])\n",
        "\n",
        "long_absences = identify_extended_absences(attendance_dataframe)\n",
        "\n",
        "if long_absences.empty:\n",
        "    print(\"No students found with consecutive absences exceeding three days.\")\n",
        "else:\n",
        "    print(long_absences.to_string(index=False))\n"
      ]
    },
    {
      "cell_type": "code",
      "source": [
        "import re"
      ],
      "metadata": {
        "id": "zOdptRPJ5pN9"
      },
      "execution_count": null,
      "outputs": []
    },
    {
      "cell_type": "code",
      "source": [
        "import pandas as pd, re\n",
        "\n",
        "a = pd.DataFrame({'student_id': [101, 102, 103, 104, 105], 'absence_start_date': ['2024-03-01', '2024-03-05', '2024-03-10', '2024-03-15', '2024-03-05'], 'absence_end_date': ['2024-03-03', '2024-03-06', '2024-03-12', '2024-03-16', '2024-03-16'], 'total_absent_days': [3, 2, 3, 2, 3]})\n",
        "s = pd.DataFrame({'student_id': [101, 102, 103, 104, 105], 'student_name': ['Alice Johnson', 'Bob Smith', 'Charlie Brown', 'David Lee', 'Eva White'], 'parent_email': ['alice_parent@example.com', 'bob_parent@example.com', 'invalid.com', 'bad@email', 'eva_white@example.com']})\n",
        "c = pd.merge(a, s, on='student_id', how='left')\n",
        "v = lambda e: bool(re.match(r'^[a-zA-Z_][\\w_]*@[a-zA-Z]+\\.com$', e))\n",
        "c['email'] = c['parent_email'].apply(lambda e: e if v(e) else '')\n",
        "c['msg'] = c.apply(lambda r: f\"Dear Parent, your child {r['student_name']} was absent from {r['absence_start_date']} to {r['absence_end_date']} for {r['total_absent_days']} days. Please ensure their attendance improves.\" if r['email'] else '', axis=1)\n",
        "print(c[['student_id', 'student_name', 'absence_start_date', 'absence_end_date', 'total_absent_days', 'email', 'msg']])\n",
        "\n",
        "\n"
      ],
      "metadata": {
        "colab": {
          "base_uri": "https://localhost:8080/"
        },
        "id": "igofYfwx6d2-",
        "outputId": "895df3a3-2631-494a-db5d-2c031d561c90"
      },
      "execution_count": null,
      "outputs": [
        {
          "output_type": "stream",
          "name": "stdout",
          "text": [
            "   student_id   student_name absence_start_date absence_end_date  \\\n",
            "0         101  Alice Johnson         2024-03-01       2024-03-03   \n",
            "1         102      Bob Smith         2024-03-05       2024-03-06   \n",
            "2         103  Charlie Brown         2024-03-10       2024-03-12   \n",
            "3         104      David Lee         2024-03-15       2024-03-16   \n",
            "4         105      Eva White         2024-03-05       2024-03-16   \n",
            "\n",
            "   total_absent_days                     email  \\\n",
            "0                  3  alice_parent@example.com   \n",
            "1                  2    bob_parent@example.com   \n",
            "2                  3                             \n",
            "3                  2                             \n",
            "4                  3     eva_white@example.com   \n",
            "\n",
            "                                                 msg  \n",
            "0  Dear Parent, your child Alice Johnson was abse...  \n",
            "1  Dear Parent, your child Bob Smith was absent f...  \n",
            "2                                                     \n",
            "3                                                     \n",
            "4  Dear Parent, your child Eva White was absent f...  \n"
          ]
        }
      ]
    },
    {
      "cell_type": "code",
      "source": [],
      "metadata": {
        "id": "MZrv_8TH6hOC"
      },
      "execution_count": null,
      "outputs": []
    }
  ]
}